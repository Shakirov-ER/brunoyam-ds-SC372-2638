{
 "cells": [
  {
   "cell_type": "markdown",
   "id": "8b21f7da",
   "metadata": {},
   "source": [
    "# IF"
   ]
  },
  {
   "cell_type": "markdown",
   "id": "7a6bedbd",
   "metadata": {},
   "source": [
    "Конструкция условного оператора:"
   ]
  },
  {
   "cell_type": "code",
   "execution_count": 1,
   "id": "18e5dead",
   "metadata": {},
   "outputs": [
    {
     "name": "stdout",
     "output_type": "stream",
     "text": [
      "Число равно пяти\n"
     ]
    }
   ],
   "source": [
    "some_variable = 5\n",
    "\n",
    "if some_variable > 5:\n",
    "    print('Число больше 5')\n",
    "elif some_variable < 5:\n",
    "    print('Число меньше 5')\n",
    "else:\n",
    "    print('Число равно пяти')"
   ]
  },
  {
   "cell_type": "markdown",
   "id": "3ea9cd60",
   "metadata": {},
   "source": [
    "### Задача\n",
    "\n",
    "С клавиатуры вводится два числа. Это координаты клетки на шахматной доске. Проверить является ли клетка белой.\n",
    "\n",
    "Подсказка: сначала придумайте решение на листочке, потом реализуйте его в виде кода\n",
    "Подсказка: чтобы решить задание необходимо загуглить как вводить число с клавиатуры в python"
   ]
  },
  {
   "cell_type": "code",
   "execution_count": null,
   "id": "c9fd3ed0",
   "metadata": {},
   "outputs": [],
   "source": [
    "# Ваш код здесь"
   ]
  },
  {
   "cell_type": "markdown",
   "id": "1d8cb10c",
   "metadata": {},
   "source": [
    "### Задача\n",
    "С клавиатуры вводится координаты двух клеток на шахматной доске. Проверить, может ли слон дойти за 1 шаг с первой клетки на вторую\n",
    "\n",
    "Подсказка: в python можно комбинировать условия в if с помощью and или or"
   ]
  },
  {
   "cell_type": "code",
   "execution_count": null,
   "id": "8905e690",
   "metadata": {},
   "outputs": [],
   "source": [
    "# Ваш код здесь"
   ]
  },
  {
   "cell_type": "markdown",
   "id": "3daa9c81",
   "metadata": {},
   "source": [
    "Пользователь вводит целое число. Проверьте является ли это число четырехзначным, если является, то выведите строку \"Успешно\", иначе \"Неудача\"."
   ]
  },
  {
   "cell_type": "markdown",
   "id": "86d7135e",
   "metadata": {},
   "source": [
    "### Задача\n",
    "\n",
    "Пользователь вводит целое число. Проверьте является ли это число четырехзначным, если является, то выведите строку \"Успешно\", иначе \"Неудача\".\n",
    "\n",
    "Подсказка: вспомните приведение типов в python. Проверить является ли строка длиной 4 гораздо проще, чем проверить действительно ли число 4-ех значное"
   ]
  },
  {
   "cell_type": "code",
   "execution_count": null,
   "id": "5d25953c",
   "metadata": {},
   "outputs": [],
   "source": [
    "# Ваш код здесь"
   ]
  },
  {
   "cell_type": "markdown",
   "id": "b763364c",
   "metadata": {},
   "source": [
    "### Задача\n",
    "\n",
    "Треугольник существует только тогда, когда сумма любых двух его сторон больше третьей. Дано a, b, c - стороны предполагаемого треугольника. Требуется сравнить длину каждого отрезка-стороны с суммой двух других. Если хотя бы в одном случае отрезок окажется больше суммы двух других, то треугольника с такими сторонами не существует."
   ]
  },
  {
   "cell_type": "code",
   "execution_count": null,
   "id": "8c062943",
   "metadata": {},
   "outputs": [],
   "source": [
    "# Ваш код здесь"
   ]
  },
  {
   "cell_type": "markdown",
   "id": "ac508f0d",
   "metadata": {},
   "source": [
    "### Цикл For"
   ]
  },
  {
   "cell_type": "markdown",
   "id": "f1d4f1c2",
   "metadata": {},
   "source": [
    "## Простой перебор"
   ]
  },
  {
   "cell_type": "code",
   "execution_count": 2,
   "id": "2b4eeaec",
   "metadata": {},
   "outputs": [
    {
     "name": "stdout",
     "output_type": "stream",
     "text": [
      "one\n",
      "two\n",
      "three\n"
     ]
    }
   ],
   "source": [
    "for i in ['one', 'two', 'three']:\n",
    "    print(i)"
   ]
  },
  {
   "cell_type": "markdown",
   "id": "944f094f",
   "metadata": {},
   "source": [
    "## Функция range()"
   ]
  },
  {
   "cell_type": "code",
   "execution_count": 3,
   "id": "bfc54f52",
   "metadata": {},
   "outputs": [
    {
     "name": "stdout",
     "output_type": "stream",
     "text": [
      "0\n",
      "1\n",
      "2\n",
      "3\n",
      "4\n"
     ]
    }
   ],
   "source": [
    "# от 0 до 5\n",
    "for number in range(5):\n",
    "    print(number)"
   ]
  },
  {
   "cell_type": "code",
   "execution_count": 4,
   "id": "eaa4b482",
   "metadata": {},
   "outputs": [
    {
     "name": "stdout",
     "output_type": "stream",
     "text": [
      "5\n",
      "6\n",
      "7\n",
      "8\n",
      "9\n"
     ]
    }
   ],
   "source": [
    "# от 5 до 10\n",
    "for el in range(5,10):\n",
    "    print(el)"
   ]
  },
  {
   "cell_type": "code",
   "execution_count": 5,
   "id": "6d64ba1e",
   "metadata": {},
   "outputs": [
    {
     "name": "stdout",
     "output_type": "stream",
     "text": [
      "5\n",
      "7\n",
      "9\n"
     ]
    }
   ],
   "source": [
    "# от 5 до 10 с шагом 2\n",
    "for el in range(5,10,2):\n",
    "    print(el)"
   ]
  },
  {
   "cell_type": "markdown",
   "id": "6e07ec7f",
   "metadata": {},
   "source": [
    "## Перебор строк"
   ]
  },
  {
   "cell_type": "code",
   "execution_count": 6,
   "id": "07db1643",
   "metadata": {},
   "outputs": [
    {
     "name": "stdout",
     "output_type": "stream",
     "text": [
      "h\n",
      "e\n",
      "l\n",
      "l\n",
      "o\n"
     ]
    }
   ],
   "source": [
    "for letter in 'hello':\n",
    "    print(letter)"
   ]
  },
  {
   "cell_type": "markdown",
   "id": "eea7d8fc",
   "metadata": {},
   "source": [
    "## Задача:\n",
    "\n",
    "Посчитать сумму четных чисел от 0 до number"
   ]
  },
  {
   "cell_type": "code",
   "execution_count": null,
   "id": "c01b6853",
   "metadata": {},
   "outputs": [],
   "source": [
    "# Ваш код здесь"
   ]
  },
  {
   "cell_type": "markdown",
   "id": "bdf00fbe",
   "metadata": {},
   "source": [
    "### Задача\n",
    "\n",
    "Дано целое число n. Найти сумму 1 + 1/2 + 1/3 + ... + 1/n"
   ]
  },
  {
   "cell_type": "code",
   "execution_count": null,
   "id": "0bd053f7",
   "metadata": {},
   "outputs": [],
   "source": [
    "# Ваш код здесь"
   ]
  },
  {
   "cell_type": "markdown",
   "id": "70fdba2f",
   "metadata": {},
   "source": [
    "### Задача \n",
    "\n",
    "По данному натуральному n ≤ 30 выведите лесенку из n ступенек, i-я ступенька состоит из чисел от 1 до i без пробелов. \n",
    "\n",
    "Подсказка: циклы можно вкладывать друг в друга"
   ]
  },
  {
   "cell_type": "code",
   "execution_count": null,
   "id": "12946be2",
   "metadata": {},
   "outputs": [],
   "source": [
    "# Ваш код здесь"
   ]
  },
  {
   "cell_type": "markdown",
   "id": "eb5ebb8f",
   "metadata": {},
   "source": [
    "# list comprehension"
   ]
  },
  {
   "cell_type": "code",
   "execution_count": 7,
   "id": "73be8e19",
   "metadata": {},
   "outputs": [
    {
     "data": {
      "text/plain": [
       "[1, 9, 25]"
      ]
     },
     "execution_count": 7,
     "metadata": {},
     "output_type": "execute_result"
    }
   ],
   "source": [
    "a = [i**2 for i in [1, 3, 5]]\n",
    "a"
   ]
  },
  {
   "cell_type": "markdown",
   "id": "17cdc163",
   "metadata": {},
   "source": [
    "## Задача\n",
    "\n",
    "Вывести все четные числа среди квадратов чисел от 1 до 100."
   ]
  },
  {
   "cell_type": "code",
   "execution_count": null,
   "id": "5fbb3da5",
   "metadata": {},
   "outputs": [],
   "source": [
    "# Ваш код здесь"
   ]
  },
  {
   "cell_type": "markdown",
   "id": "da8192d8",
   "metadata": {},
   "source": [
    "## Условный оператор в одну строку (Тернарный оператор)\n",
    "\n",
    "Общий паттерн выглядит так: \\<expression on true\\> if \\<predicate\\> else \\<expression on false\\>."
   ]
  },
  {
   "cell_type": "code",
   "execution_count": 8,
   "id": "dfb0d275",
   "metadata": {},
   "outputs": [
    {
     "name": "stdout",
     "output_type": "stream",
     "text": [
      "True\n"
     ]
    }
   ],
   "source": [
    "a = 5\n",
    "\n",
    "b = True if a ==5 else False\n",
    "\n",
    "print(b)"
   ]
  },
  {
   "cell_type": "markdown",
   "id": "fc700a32",
   "metadata": {},
   "source": [
    "### Задача \n",
    "Есть список a = [1, 1, 2, 3, 5, 8, 13, 21, 34, 55, 89].\n",
    "\n",
    "Выведите все элементы, которые меньше 5.\n",
    "\n",
    "Подсказка: обьедините условный оператор в одну строчку и list comprehansion"
   ]
  },
  {
   "cell_type": "code",
   "execution_count": null,
   "id": "8c340ea5",
   "metadata": {},
   "outputs": [],
   "source": [
    "# Ваш код здесь"
   ]
  },
  {
   "cell_type": "markdown",
   "id": "cb2ed888",
   "metadata": {},
   "source": [
    "### Dict"
   ]
  },
  {
   "cell_type": "code",
   "execution_count": 9,
   "id": "457f32b3",
   "metadata": {},
   "outputs": [
    {
     "name": "stdout",
     "output_type": "stream",
     "text": [
      "{'name': 'Kirill', 'age': 31, 'isMale': True}\n"
     ]
    }
   ],
   "source": [
    "a = {\n",
    "    'name': 'Kirill',\n",
    "    'age': 31,\n",
    "    'isMale': True\n",
    "}\n",
    "\n",
    "print(a)"
   ]
  },
  {
   "cell_type": "code",
   "execution_count": 10,
   "id": "28355e7a",
   "metadata": {},
   "outputs": [
    {
     "data": {
      "text/plain": [
       "'Kirill'"
      ]
     },
     "execution_count": 10,
     "metadata": {},
     "output_type": "execute_result"
    }
   ],
   "source": [
    "a['name']"
   ]
  },
  {
   "cell_type": "code",
   "execution_count": 11,
   "id": "26247d92",
   "metadata": {},
   "outputs": [
    {
     "data": {
      "text/plain": [
       "31"
      ]
     },
     "execution_count": 11,
     "metadata": {},
     "output_type": "execute_result"
    }
   ],
   "source": [
    "a['age']"
   ]
  },
  {
   "cell_type": "code",
   "execution_count": 12,
   "id": "a8ce6fc5",
   "metadata": {},
   "outputs": [
    {
     "data": {
      "text/plain": [
       "dict_keys(['name', 'age', 'isMale'])"
      ]
     },
     "execution_count": 12,
     "metadata": {},
     "output_type": "execute_result"
    }
   ],
   "source": [
    "a.keys()"
   ]
  },
  {
   "cell_type": "code",
   "execution_count": 13,
   "id": "584d0aec",
   "metadata": {},
   "outputs": [
    {
     "data": {
      "text/plain": [
       "dict_values(['Kirill', 31, True])"
      ]
     },
     "execution_count": 13,
     "metadata": {},
     "output_type": "execute_result"
    }
   ],
   "source": [
    "a.values()"
   ]
  },
  {
   "cell_type": "markdown",
   "id": "d7183322",
   "metadata": {},
   "source": [
    "## Задача\n",
    "\n",
    "Дан словарь, который сопоставляет номер месяца с его названием. Сделать обратный словарь, который будет сопоставлять названию месяца его номер.\n",
    "\n",
    "Нельзя вручную задавать новый словарь."
   ]
  },
  {
   "cell_type": "code",
   "execution_count": null,
   "id": "72c4e008",
   "metadata": {},
   "outputs": [],
   "source": [
    "month_dict = {\n",
    "    1: 'Январь',\n",
    "    2: 'Февраль',\n",
    "    3: 'Март',\n",
    "    4: 'Апрель',\n",
    "    5: 'Май',\n",
    "    6: 'Июнь',\n",
    "    7: 'Июль',\n",
    "    8: 'Август',\n",
    "    9: 'Сентябрь',\n",
    "    10: 'Октябрь',\n",
    "    11: 'Ноябрь',\n",
    "    12: 'Декабрь'\n",
    "}\n",
    "\n",
    "# Ваш код здесь\n"
   ]
  },
  {
   "cell_type": "markdown",
   "id": "556f51d4",
   "metadata": {},
   "source": [
    "# Функции\n",
    "\n",
    "Функция принимает на вход какие-то значения и что-то выдает. Функции нужны, чтобы убирать дублирования в коде.\n",
    "\n",
    "Создадим свою функцию:"
   ]
  },
  {
   "cell_type": "code",
   "execution_count": 14,
   "id": "5d1bf5d0",
   "metadata": {},
   "outputs": [],
   "source": [
    "def add_one(x): # Сигнатура функции\n",
    "    result = x + 1# Тело функции\n",
    "    return result # Возвращаемое значение (если не указать, то вернется None)"
   ]
  },
  {
   "cell_type": "code",
   "execution_count": 15,
   "id": "5d59abd1",
   "metadata": {},
   "outputs": [
    {
     "data": {
      "text/plain": [
       "6"
      ]
     },
     "execution_count": 15,
     "metadata": {},
     "output_type": "execute_result"
    }
   ],
   "source": [
    "add_one(5)"
   ]
  },
  {
   "cell_type": "markdown",
   "id": "29e86739",
   "metadata": {},
   "source": [
    "## Задача\n",
    "\n",
    "Написать функцию, которая вернет список четных чисел от a до b"
   ]
  },
  {
   "cell_type": "code",
   "execution_count": null,
   "id": "98f2c406",
   "metadata": {},
   "outputs": [],
   "source": [
    "# Ваш код здесь"
   ]
  },
  {
   "cell_type": "markdown",
   "id": "9b1c0940",
   "metadata": {},
   "source": [
    "### Задача\n",
    "\n",
    "Написать функцию, которая принимает два числа и возвращает список значений, которые есть в обоих списках"
   ]
  },
  {
   "cell_type": "code",
   "execution_count": null,
   "id": "4441d556",
   "metadata": {},
   "outputs": [],
   "source": [
    "# Ваш код здесь"
   ]
  },
  {
   "cell_type": "markdown",
   "id": "f2256777",
   "metadata": {},
   "source": [
    "### Анонимные функции (лямбда функции)\n",
    "\n",
    "Это однострочные функции без имени\n",
    "\n"
   ]
  },
  {
   "cell_type": "code",
   "execution_count": 16,
   "id": "9c533aae",
   "metadata": {},
   "outputs": [],
   "source": [
    "sqr = lambda x: x**2 "
   ]
  },
  {
   "cell_type": "code",
   "execution_count": 17,
   "id": "d54a6ad9",
   "metadata": {},
   "outputs": [
    {
     "data": {
      "text/plain": [
       "25"
      ]
     },
     "execution_count": 17,
     "metadata": {},
     "output_type": "execute_result"
    }
   ],
   "source": [
    "sqr(5)"
   ]
  },
  {
   "cell_type": "code",
   "execution_count": 18,
   "id": "a773f3c2",
   "metadata": {},
   "outputs": [],
   "source": [
    "def sqr(x):\n",
    "    return x**2"
   ]
  },
  {
   "cell_type": "markdown",
   "id": "aad2cfee",
   "metadata": {},
   "source": [
    "# Map\n",
    "\n",
    "Функция map принимает коллекцию (например список) и функцию. Далее применяет к каждому аргументу функцию"
   ]
  },
  {
   "cell_type": "code",
   "execution_count": 19,
   "id": "bf4551fc",
   "metadata": {},
   "outputs": [
    {
     "name": "stdout",
     "output_type": "stream",
     "text": [
      "<map object at 0x7fa101999d90>\n"
     ]
    }
   ],
   "source": [
    "L = [1, 2, 3, 4]\n",
    "a = map(lambda x: x**2, L)\n",
    "\n",
    "print(a)"
   ]
  },
  {
   "cell_type": "markdown",
   "id": "d83b7ff6",
   "metadata": {},
   "source": [
    "как вы видите, map возвращает на сам список, а так называемый генератор\n",
    "\n",
    "Чтобы вернуть список, преобразуем полученный генератор к списку"
   ]
  },
  {
   "cell_type": "code",
   "execution_count": null,
   "id": "df98df9f",
   "metadata": {},
   "outputs": [],
   "source": [
    "print(list(a))"
   ]
  },
  {
   "cell_type": "markdown",
   "id": "b3823a8e",
   "metadata": {},
   "source": [
    "Сам map в работе мы использовать не будем, но будем использовать его вариацию в pandas"
   ]
  },
  {
   "cell_type": "markdown",
   "id": "288c4885",
   "metadata": {},
   "source": [
    "### Задача\n",
    "\n",
    "Необходимо реализовать функцию, которая принимает список значений и возвращает преобразованный массив по следующему правилу:\n",
    "\n",
    "$$x := \\frac{x - min}{max - min},$$ \n",
    "\n",
    "где x - элемент массива, max - максимальное значение во всем массиве, min - минимальное значение во всем массиве. При решении используйте map\n",
    "\n",
    "Такая функция называется [MinMaxScaler](https://scikit-learn.org/stable/modules/generated/sklearn.preprocessing.MinMaxScaler.html). Она преобразует каждое значение массива в числа от 0 до 1. Зачем нужен это scaler разберем на занятии по Машинному обучению"
   ]
  },
  {
   "cell_type": "code",
   "execution_count": null,
   "id": "f23af608",
   "metadata": {},
   "outputs": [],
   "source": [
    "# Ваш код здесь"
   ]
  },
  {
   "cell_type": "markdown",
   "id": "5b0e2a49",
   "metadata": {},
   "source": [
    "### Задача\n",
    "Решите эту задачу с помощью numpy. В numpy.array есть метод min и max для поиска минимума и максимума в массиве."
   ]
  },
  {
   "cell_type": "code",
   "execution_count": null,
   "id": "1cfff149",
   "metadata": {},
   "outputs": [],
   "source": [
    "# Ваш код здесь"
   ]
  },
  {
   "cell_type": "markdown",
   "id": "48e197f9",
   "metadata": {},
   "source": [
    "# Решаем квадратное уравнение\n",
    "\n",
    "Нужно написать код функции, которая на вход принимает коэфициенты a, b и c квадратного уравнения и считает ответ.\n",
    "\n",
    "Если корня два, то нужно вернуть кортеж вида $(x1, x2)$, где $x1 < x2$\n",
    "\n",
    "Если корень один, то просто возвращаем число\n",
    "\n",
    "Если корней нет, то возвращаем `None`"
   ]
  },
  {
   "cell_type": "code",
   "execution_count": null,
   "id": "2a2de4e3",
   "metadata": {},
   "outputs": [],
   "source": [
    "from math import sqrt\n",
    "\n",
    "def solve_quadratic(a, b, c):\n",
    "    # Ваш код здесь\n",
    "    "
   ]
  },
  {
   "cell_type": "markdown",
   "id": "07b1b55b",
   "metadata": {},
   "source": [
    "Ячейки ниже просто запускаем, чтобы проверить, что мы правильно написали функцию. Если не ругается, значит все ок."
   ]
  },
  {
   "cell_type": "code",
   "execution_count": null,
   "id": "0c4901c2",
   "metadata": {},
   "outputs": [],
   "source": [
    "def calculate_quadratic(a, b, c, x):\n",
    "    return a * x ** 2 + b * x + c\n",
    "\n",
    "def test_quadratic(a, b, c):\n",
    "    result = solve_quadratic(a, b, c)\n",
    "    if b * b - 4 * a * c < 0:\n",
    "        assert result is None\n",
    "        return\n",
    "    from typing import Iterable\n",
    "    if isinstance(result, Iterable):\n",
    "        x1, x2 = result\n",
    "        assert abs(calculate_quadratic(a, b, c, x1)) < 0.00001\n",
    "        assert abs(calculate_quadratic(a, b, c, x2)) < 0.00001\n",
    "    else:\n",
    "        x = result\n",
    "        assert abs(calculate_quadratic(a, b, c, x)) < 0.00001"
   ]
  },
  {
   "cell_type": "code",
   "execution_count": null,
   "id": "3671ed59",
   "metadata": {},
   "outputs": [],
   "source": [
    "test_quadratic(1, -2, -3) # два корня\n",
    "test_quadratic(1, 12, 36) # один корень\n",
    "test_quadratic(1, 0, 0)\n",
    "test_quadratic(0, 1, 0)\n",
    "test_quadratic(2, 4, -7) # два корня\n",
    "test_quadratic(1, 6, 9) # один корень\n",
    "test_quadratic(2, 4, 7) # нет корней"
   ]
  },
  {
   "cell_type": "code",
   "execution_count": null,
   "id": "edf60df6",
   "metadata": {},
   "outputs": [],
   "source": []
  }
 ],
 "metadata": {
  "kernelspec": {
   "display_name": "Python 3 (ipykernel)",
   "language": "python",
   "name": "python3"
  },
  "language_info": {
   "codemirror_mode": {
    "name": "ipython",
    "version": 3
   },
   "file_extension": ".py",
   "mimetype": "text/x-python",
   "name": "python",
   "nbconvert_exporter": "python",
   "pygments_lexer": "ipython3",
   "version": "3.9.7"
  }
 },
 "nbformat": 4,
 "nbformat_minor": 5
}
