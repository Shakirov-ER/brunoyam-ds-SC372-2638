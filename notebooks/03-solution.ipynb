{
 "cells": [
  {
   "cell_type": "markdown",
   "id": "f581503c",
   "metadata": {},
   "source": [
    "# IF"
   ]
  },
  {
   "cell_type": "markdown",
   "id": "0ab87175",
   "metadata": {},
   "source": [
    "Конструкция условного оператора:"
   ]
  },
  {
   "cell_type": "code",
   "execution_count": 1,
   "id": "2794b380",
   "metadata": {},
   "outputs": [
    {
     "name": "stdout",
     "output_type": "stream",
     "text": [
      "Число равно пяти\n"
     ]
    }
   ],
   "source": [
    "some_variable = 5\n",
    "\n",
    "if some_variable > 5:\n",
    "    print('Число больше 5')\n",
    "elif some_variable < 5:\n",
    "    print('Число меньше 5')\n",
    "else:\n",
    "    print('Число равно пяти')"
   ]
  },
  {
   "cell_type": "markdown",
   "id": "1f84c84a",
   "metadata": {},
   "source": [
    "### Задача\n",
    "\n",
    "С клавиатуры вводится два числа. Это координаты клетки на шахматной доске. Проверить является ли клетка белой.\n",
    "\n",
    "Подсказка: сначала придумайте решение на листочке, потом реализуйте его в виде кода\n",
    "Подсказка: чтобы решить задание необходимо загуглить как вводить число с клавиатуры в python"
   ]
  },
  {
   "cell_type": "code",
   "execution_count": 3,
   "id": "536ae21c",
   "metadata": {},
   "outputs": [
    {
     "name": "stdout",
     "output_type": "stream",
     "text": [
      "Введите координату x: 1\n",
      "Введите координату y: 2\n",
      "YES\n"
     ]
    }
   ],
   "source": [
    "x = int(input('Введите координату x: '))\n",
    "y = int(input('Введите координату y: '))\n",
    "if (x + y) % 2 == 1:\n",
    "    print('YES')\n",
    "else:\n",
    "    print('NO')"
   ]
  },
  {
   "cell_type": "markdown",
   "id": "7d734744",
   "metadata": {},
   "source": [
    "### Задача\n",
    "С клавиатуры вводится координаты двух клеток на шахматной доске. Проверить, может ли слон дойти за 1 шаг с первой клетки на вторую\n",
    "\n",
    "Подсказка: в python можно комбинировать условия в if с помощью and или or"
   ]
  },
  {
   "cell_type": "code",
   "execution_count": 2,
   "id": "daa4daef",
   "metadata": {},
   "outputs": [
    {
     "name": "stdout",
     "output_type": "stream",
     "text": [
      "Введите координату x1: 1\n",
      "Введите координату y1: 1\n",
      "Введите координату x2: 3\n",
      "Введите координату y2: 3\n",
      "NO\n"
     ]
    }
   ],
   "source": [
    "x1 = int(input('Введите координату x1: '))\n",
    "x2 = int(input('Введите координату y1: '))\n",
    "y1 = int(input('Введите координату x2: '))\n",
    "y2 = int(input('Введите координату y2: '))\n",
    "if x1 == x2 and y1 != y2 or x1 != x2 and y1 == y2:\n",
    "    print('YES')\n",
    "else:\n",
    "    print('NO')"
   ]
  },
  {
   "cell_type": "markdown",
   "id": "7c165578",
   "metadata": {},
   "source": [
    "Пользователь вводит целое число. Проверьте является ли это число четырехзначным, если является, то выведите строку \"Успешно\", иначе \"Неудача\"."
   ]
  },
  {
   "cell_type": "markdown",
   "id": "b5996cd4",
   "metadata": {},
   "source": [
    "### Задача\n",
    "\n",
    "Пользователь вводит целое число. Проверьте является ли это число четырехзначным, если является, то выведите строку \"Успешно\", иначе \"Неудача\".\n",
    "\n",
    "Подсказка: вспомните приведение типов в python. Проверить является ли строка длиной 4 гораздо проще, чем проверить действительно ли число 4-ех значное"
   ]
  },
  {
   "cell_type": "code",
   "execution_count": 1,
   "id": "6b772879",
   "metadata": {},
   "outputs": [
    {
     "name": "stdout",
     "output_type": "stream",
     "text": [
      "1234\n",
      "Успешно\n"
     ]
    }
   ],
   "source": [
    "x = int(input())\n",
    "\n",
    "if len(str(x)) == 4:\n",
    "    print('Успешно')\n",
    "else:\n",
    "    print('Неудачно')"
   ]
  },
  {
   "cell_type": "markdown",
   "id": "33581966",
   "metadata": {},
   "source": [
    "### Задача\n",
    "\n",
    "Треугольник существует только тогда, когда сумма любых двух его сторон больше третьей. Дано a, b, c - стороны предполагаемого треугольника. Требуется сравнить длину каждого отрезка-стороны с суммой двух других. Если хотя бы в одном случае отрезок окажется больше суммы двух других, то треугольника с такими сторонами не существует."
   ]
  },
  {
   "cell_type": "code",
   "execution_count": 5,
   "id": "0a7b2c3f",
   "metadata": {},
   "outputs": [
    {
     "name": "stdout",
     "output_type": "stream",
     "text": [
      "Введите a 2\n",
      "Введите b 2\n",
      "Введите c 2\n",
      "True\n"
     ]
    }
   ],
   "source": [
    "a = int(input('Введите a '))\n",
    "b = int(input('Введите b '))\n",
    "c = int(input('Введите c '))\n",
    "\n",
    "if a > b + c:\n",
    "    print(False)\n",
    "elif b > a + c:\n",
    "    print(False)\n",
    "elif c > b + a:\n",
    "    print(False)\n",
    "else:\n",
    "    print(True)"
   ]
  },
  {
   "cell_type": "markdown",
   "id": "74faf655",
   "metadata": {},
   "source": [
    "### Цикл For"
   ]
  },
  {
   "cell_type": "markdown",
   "id": "14d5fbb0",
   "metadata": {},
   "source": [
    "## Простой перебор"
   ]
  },
  {
   "cell_type": "code",
   "execution_count": 5,
   "id": "b21a3d35",
   "metadata": {},
   "outputs": [
    {
     "name": "stdout",
     "output_type": "stream",
     "text": [
      "one\n",
      "two\n",
      "three\n"
     ]
    }
   ],
   "source": [
    "for i in ['one', 'two', 'three']:\n",
    "    print(i)"
   ]
  },
  {
   "cell_type": "markdown",
   "id": "74c5ae20",
   "metadata": {},
   "source": [
    "## Функция range()"
   ]
  },
  {
   "cell_type": "code",
   "execution_count": 10,
   "id": "4a90f578",
   "metadata": {},
   "outputs": [
    {
     "name": "stdout",
     "output_type": "stream",
     "text": [
      "0\n",
      "1\n",
      "2\n",
      "3\n",
      "4\n"
     ]
    }
   ],
   "source": [
    "# от 0 до 5\n",
    "for number in range(5):\n",
    "    print(number)"
   ]
  },
  {
   "cell_type": "code",
   "execution_count": 11,
   "id": "eaa92935",
   "metadata": {},
   "outputs": [
    {
     "name": "stdout",
     "output_type": "stream",
     "text": [
      "5\n",
      "6\n",
      "7\n",
      "8\n",
      "9\n"
     ]
    }
   ],
   "source": [
    "# от 5 до 10\n",
    "for el in range(5,10):\n",
    "    print(el)"
   ]
  },
  {
   "cell_type": "code",
   "execution_count": 12,
   "id": "c1132f94",
   "metadata": {},
   "outputs": [
    {
     "name": "stdout",
     "output_type": "stream",
     "text": [
      "5\n",
      "7\n",
      "9\n"
     ]
    }
   ],
   "source": [
    "# от 5 до 10 с шагом 2\n",
    "for el in range(5,10,2):\n",
    "    print(el)"
   ]
  },
  {
   "cell_type": "markdown",
   "id": "dbcb2729",
   "metadata": {},
   "source": [
    "## Перебор строк"
   ]
  },
  {
   "cell_type": "code",
   "execution_count": 13,
   "id": "b197ec2f",
   "metadata": {},
   "outputs": [
    {
     "name": "stdout",
     "output_type": "stream",
     "text": [
      "h\n",
      "e\n",
      "l\n",
      "l\n",
      "o\n"
     ]
    }
   ],
   "source": [
    "for letter in 'hello':\n",
    "    print(letter)"
   ]
  },
  {
   "cell_type": "markdown",
   "id": "96431154",
   "metadata": {},
   "source": [
    "## Задача:\n",
    "\n",
    "Посчитать сумму четных чисел от 0 до number"
   ]
  },
  {
   "cell_type": "code",
   "execution_count": 14,
   "id": "cce779c2",
   "metadata": {},
   "outputs": [
    {
     "name": "stdout",
     "output_type": "stream",
     "text": [
      "5\n",
      "6\n"
     ]
    }
   ],
   "source": [
    "number = int(input())\n",
    "summa = 0\n",
    "for i in range(number+1):\n",
    "    if i % 2 == 0:\n",
    "        # summa = summa + i\n",
    "        summa += i\n",
    "print(summa)"
   ]
  },
  {
   "cell_type": "markdown",
   "id": "a1b42deb",
   "metadata": {},
   "source": [
    "### Задача\n",
    "\n",
    "Дано целое число n. Найти сумму 1 + 1/2 + 1/3 + ... + 1/n"
   ]
  },
  {
   "cell_type": "code",
   "execution_count": 9,
   "id": "a3b5cd31",
   "metadata": {},
   "outputs": [
    {
     "name": "stdout",
     "output_type": "stream",
     "text": [
      "2\n",
      "1.5\n"
     ]
    }
   ],
   "source": [
    "n = int(input())\n",
    "result = 0\n",
    "for i in range(1, n+1):\n",
    "    result = result + 1/i\n",
    "    \n",
    "print(result)"
   ]
  },
  {
   "cell_type": "markdown",
   "id": "1efbf17c",
   "metadata": {},
   "source": [
    "### Задача \n",
    "\n",
    "По данному натуральному n ≤ 30 выведите лесенку из n ступенек, i-я ступенька состоит из чисел от 1 до i без пробелов. \n",
    "\n",
    "Подсказка: циклы можно вкладывать друг в друга"
   ]
  },
  {
   "cell_type": "code",
   "execution_count": 14,
   "id": "e78c9651",
   "metadata": {},
   "outputs": [
    {
     "name": "stdout",
     "output_type": "stream",
     "text": [
      "5\n",
      "\n",
      "1 \n",
      "1 2 \n",
      "1 2 3 \n",
      "1 2 3 4 \n",
      "1 2 3 4 5 "
     ]
    }
   ],
   "source": [
    "n = int(input())\n",
    "for i in range(1, n+1):\n",
    "    print()\n",
    "    for i in range(1, i+1):\n",
    "        print(i, end=' ')"
   ]
  },
  {
   "cell_type": "markdown",
   "id": "232fe633",
   "metadata": {},
   "source": [
    "# list comprehension"
   ]
  },
  {
   "cell_type": "code",
   "execution_count": 16,
   "id": "384576d3",
   "metadata": {},
   "outputs": [
    {
     "data": {
      "text/plain": [
       "[1, 9, 25]"
      ]
     },
     "execution_count": 16,
     "metadata": {},
     "output_type": "execute_result"
    }
   ],
   "source": [
    "a = [i**2 for i in [1, 3, 5]]\n",
    "a"
   ]
  },
  {
   "cell_type": "markdown",
   "id": "0c6013ac",
   "metadata": {},
   "source": [
    "## Задача\n",
    "\n",
    "Вывести все четные числа среди квадратов чисел от 1 до 100."
   ]
  },
  {
   "cell_type": "code",
   "execution_count": 15,
   "id": "c8fa9249",
   "metadata": {},
   "outputs": [
    {
     "data": {
      "text/plain": [
       "[4,\n",
       " 16,\n",
       " 36,\n",
       " 64,\n",
       " 100,\n",
       " 144,\n",
       " 196,\n",
       " 256,\n",
       " 324,\n",
       " 400,\n",
       " 484,\n",
       " 576,\n",
       " 676,\n",
       " 784,\n",
       " 900,\n",
       " 1024,\n",
       " 1156,\n",
       " 1296,\n",
       " 1444,\n",
       " 1600,\n",
       " 1764,\n",
       " 1936,\n",
       " 2116,\n",
       " 2304,\n",
       " 2500,\n",
       " 2704,\n",
       " 2916,\n",
       " 3136,\n",
       " 3364,\n",
       " 3600,\n",
       " 3844,\n",
       " 4096,\n",
       " 4356,\n",
       " 4624,\n",
       " 4900,\n",
       " 5184,\n",
       " 5476,\n",
       " 5776,\n",
       " 6084,\n",
       " 6400,\n",
       " 6724,\n",
       " 7056,\n",
       " 7396,\n",
       " 7744,\n",
       " 8100,\n",
       " 8464,\n",
       " 8836,\n",
       " 9216,\n",
       " 9604,\n",
       " 10000]"
      ]
     },
     "execution_count": 15,
     "metadata": {},
     "output_type": "execute_result"
    }
   ],
   "source": [
    "[i**2 for i in range(2, 101, 2)]"
   ]
  },
  {
   "cell_type": "markdown",
   "id": "efa08108",
   "metadata": {},
   "source": [
    "## Условный оператор в одну строку (Тернарный оператор)\n",
    "\n",
    "Общий паттерн выглядит так: \\<expression on true\\> if \\<predicate\\> else \\<expression on false\\>."
   ]
  },
  {
   "cell_type": "code",
   "execution_count": 21,
   "id": "7c14e75a",
   "metadata": {},
   "outputs": [
    {
     "name": "stdout",
     "output_type": "stream",
     "text": [
      "True\n"
     ]
    }
   ],
   "source": [
    "a = 5\n",
    "\n",
    "b = True if a ==5 else False\n",
    "\n",
    "print(b)"
   ]
  },
  {
   "cell_type": "markdown",
   "id": "c62b645e",
   "metadata": {},
   "source": [
    "### Задача \n",
    "Есть список a = [1, 1, 2, 3, 5, 8, 13, 21, 34, 55, 89].\n",
    "\n",
    "Выведите все элементы, которые меньше 5.\n",
    "\n",
    "Подсказка: обьедините условный оператор в одну строчку и list comprehansion"
   ]
  },
  {
   "cell_type": "code",
   "execution_count": 18,
   "id": "52c08e88",
   "metadata": {},
   "outputs": [
    {
     "name": "stdout",
     "output_type": "stream",
     "text": [
      "[1, 1, 2, 3]\n"
     ]
    }
   ],
   "source": [
    "a = [1, 1, 2, 3, 5, 8, 13, 21, 34, 55, 89]\n",
    "\n",
    "print([elem for elem in a if elem < 5])"
   ]
  },
  {
   "cell_type": "markdown",
   "id": "5807b8b6",
   "metadata": {},
   "source": [
    "### Dict"
   ]
  },
  {
   "cell_type": "code",
   "execution_count": 23,
   "id": "536406d0",
   "metadata": {},
   "outputs": [
    {
     "name": "stdout",
     "output_type": "stream",
     "text": [
      "{'name': 'Kirill', 'age': 31, 'isMale': True}\n"
     ]
    }
   ],
   "source": [
    "a = {\n",
    "    'name': 'Kirill',\n",
    "    'age': 31,\n",
    "    'isMale': True\n",
    "}\n",
    "\n",
    "print(a)"
   ]
  },
  {
   "cell_type": "code",
   "execution_count": 28,
   "id": "edb7ccbb",
   "metadata": {},
   "outputs": [
    {
     "data": {
      "text/plain": [
       "'Kirill'"
      ]
     },
     "execution_count": 28,
     "metadata": {},
     "output_type": "execute_result"
    }
   ],
   "source": [
    "a['name']"
   ]
  },
  {
   "cell_type": "code",
   "execution_count": 29,
   "id": "a22f3ca0",
   "metadata": {},
   "outputs": [
    {
     "data": {
      "text/plain": [
       "31"
      ]
     },
     "execution_count": 29,
     "metadata": {},
     "output_type": "execute_result"
    }
   ],
   "source": [
    "a['age']"
   ]
  },
  {
   "cell_type": "code",
   "execution_count": 24,
   "id": "5c410c62",
   "metadata": {},
   "outputs": [
    {
     "data": {
      "text/plain": [
       "dict_keys(['name', 'age', 'isMale'])"
      ]
     },
     "execution_count": 24,
     "metadata": {},
     "output_type": "execute_result"
    }
   ],
   "source": [
    "a.keys()"
   ]
  },
  {
   "cell_type": "code",
   "execution_count": 25,
   "id": "1f94e7ce",
   "metadata": {},
   "outputs": [
    {
     "data": {
      "text/plain": [
       "dict_values(['Kirill', 31, True])"
      ]
     },
     "execution_count": 25,
     "metadata": {},
     "output_type": "execute_result"
    }
   ],
   "source": [
    "a.values()"
   ]
  },
  {
   "cell_type": "markdown",
   "id": "adc439df",
   "metadata": {},
   "source": [
    "## Задача\n",
    "\n",
    "Дан словарь, который сопоставляет номер месяца с его названием. Сделать обратный словарь, который будет сопоставлять названию месяца его номер.\n",
    "\n",
    "Нельзя вручную задавать новый словарь."
   ]
  },
  {
   "cell_type": "code",
   "execution_count": 19,
   "id": "e08b38b5",
   "metadata": {},
   "outputs": [
    {
     "data": {
      "text/plain": [
       "{'Январь': 1,\n",
       " 'Февраль': 2,\n",
       " 'Март': 3,\n",
       " 'Апрель': 4,\n",
       " 'Май': 5,\n",
       " 'Июнь': 6,\n",
       " 'Июль': 7,\n",
       " 'Август': 8,\n",
       " 'Сентябрь': 9,\n",
       " 'Октябрь': 10,\n",
       " 'Ноябрь': 11,\n",
       " 'Декабрь': 12}"
      ]
     },
     "execution_count": 19,
     "metadata": {},
     "output_type": "execute_result"
    }
   ],
   "source": [
    "month_dict = {\n",
    "    1: 'Январь',\n",
    "    2: 'Февраль',\n",
    "    3: 'Март',\n",
    "    4: 'Апрель',\n",
    "    5: 'Май',\n",
    "    6: 'Июнь',\n",
    "    7: 'Июль',\n",
    "    8: 'Август',\n",
    "    9: 'Сентябрь',\n",
    "    10: 'Октябрь',\n",
    "    11: 'Ноябрь',\n",
    "    12: 'Декабрь'\n",
    "}\n",
    "\n",
    "new_dict = {}\n",
    "\n",
    "for key in month_dict:\n",
    "    new_dict[month_dict[key]] = key\n",
    "\n",
    "new_dict"
   ]
  },
  {
   "cell_type": "code",
   "execution_count": 22,
   "id": "60decef4",
   "metadata": {},
   "outputs": [
    {
     "data": {
      "text/plain": [
       "{'Январь': 1,\n",
       " 'Февраль': 2,\n",
       " 'Март': 3,\n",
       " 'Апрель': 4,\n",
       " 'Май': 5,\n",
       " 'Июнь': 6,\n",
       " 'Июль': 7,\n",
       " 'Август': 8,\n",
       " 'Сентябрь': 9,\n",
       " 'Октябрь': 10,\n",
       " 'Ноябрь': 11,\n",
       " 'Декабрь': 12}"
      ]
     },
     "execution_count": 22,
     "metadata": {},
     "output_type": "execute_result"
    }
   ],
   "source": [
    "# Или так\n",
    "{month_dict[key] : key for key in month_dict}"
   ]
  },
  {
   "cell_type": "markdown",
   "id": "f343638c",
   "metadata": {},
   "source": [
    "# Функции\n",
    "\n",
    "Функция принимает на вход какие-то значения и что-то выдает. Функции нужны, чтобы убирать дублирования в коде.\n",
    "\n",
    "Создадим свою функцию:"
   ]
  },
  {
   "cell_type": "code",
   "execution_count": 30,
   "id": "3fac8aee",
   "metadata": {},
   "outputs": [],
   "source": [
    "def add_one(x): # Сигнатура функции\n",
    "    # Тело функции (в нашем случае пустое)\n",
    "    return x + 1 # Возвращаемое значение (если не указать, то вернется None)"
   ]
  },
  {
   "cell_type": "code",
   "execution_count": 31,
   "id": "1058d64d",
   "metadata": {},
   "outputs": [
    {
     "data": {
      "text/plain": [
       "6"
      ]
     },
     "execution_count": 31,
     "metadata": {},
     "output_type": "execute_result"
    }
   ],
   "source": [
    "add_one(5)"
   ]
  },
  {
   "cell_type": "markdown",
   "id": "b5ff2c70",
   "metadata": {},
   "source": [
    "## Задача\n",
    "\n",
    "Написать функцию, которая вернет список четных чисел от a до b"
   ]
  },
  {
   "cell_type": "code",
   "execution_count": 23,
   "id": "72b8f506",
   "metadata": {},
   "outputs": [],
   "source": [
    "def odd(a, b):\n",
    "    if a % 2 == 0:\n",
    "        return list(range(a, b, 2))\n",
    "    \n",
    "    return list(range(a+1, b, 2))"
   ]
  },
  {
   "cell_type": "code",
   "execution_count": 24,
   "id": "0e35ca0b",
   "metadata": {},
   "outputs": [
    {
     "data": {
      "text/plain": [
       "[2, 4]"
      ]
     },
     "execution_count": 24,
     "metadata": {},
     "output_type": "execute_result"
    }
   ],
   "source": [
    "odd(1, 5)"
   ]
  },
  {
   "cell_type": "code",
   "execution_count": 25,
   "id": "bd6e8cbe",
   "metadata": {},
   "outputs": [
    {
     "data": {
      "text/plain": [
       "[0, 2, 4]"
      ]
     },
     "execution_count": 25,
     "metadata": {},
     "output_type": "execute_result"
    }
   ],
   "source": [
    "odd(0, 5)"
   ]
  },
  {
   "cell_type": "markdown",
   "id": "c7cff5ca",
   "metadata": {},
   "source": [
    "### Задача\n",
    "\n",
    "Написать функцию, которая принимает два числа и возвращает список значений, которые есть в обоих списках"
   ]
  },
  {
   "cell_type": "code",
   "execution_count": 26,
   "id": "8d6303bb",
   "metadata": {},
   "outputs": [],
   "source": [
    "def include(a, b):\n",
    "    result_list = []\n",
    "    for item in a:\n",
    "        if item in b:\n",
    "            result_list.append(item)\n",
    "            \n",
    "    return result_list"
   ]
  },
  {
   "cell_type": "code",
   "execution_count": 27,
   "id": "d99e8ab8",
   "metadata": {},
   "outputs": [
    {
     "data": {
      "text/plain": [
       "[1, 2]"
      ]
     },
     "execution_count": 27,
     "metadata": {},
     "output_type": "execute_result"
    }
   ],
   "source": [
    "include([1, 2, 3], [1, 2, 4])"
   ]
  },
  {
   "cell_type": "code",
   "execution_count": 28,
   "id": "1d9147a7",
   "metadata": {},
   "outputs": [],
   "source": [
    "# Или так\n",
    "\n",
    "def include(a, b):\n",
    "    return [elem for elem in a if elem in b]"
   ]
  },
  {
   "cell_type": "code",
   "execution_count": 29,
   "id": "2713ea78",
   "metadata": {},
   "outputs": [
    {
     "data": {
      "text/plain": [
       "[1, 2]"
      ]
     },
     "execution_count": 29,
     "metadata": {},
     "output_type": "execute_result"
    }
   ],
   "source": [
    "include([1, 2, 3], [1, 2, 4])"
   ]
  },
  {
   "cell_type": "markdown",
   "id": "41ac787b",
   "metadata": {},
   "source": [
    "### Анонимные функции (лямбда функции)\n",
    "\n",
    "Это однострочные функции без имени\n",
    "\n"
   ]
  },
  {
   "cell_type": "code",
   "execution_count": 30,
   "id": "c127aaa7",
   "metadata": {},
   "outputs": [],
   "source": [
    "sqr = lambda x: x**2 "
   ]
  },
  {
   "cell_type": "code",
   "execution_count": 31,
   "id": "41ceef21",
   "metadata": {},
   "outputs": [
    {
     "data": {
      "text/plain": [
       "25"
      ]
     },
     "execution_count": 31,
     "metadata": {},
     "output_type": "execute_result"
    }
   ],
   "source": [
    "sqr(5)"
   ]
  },
  {
   "cell_type": "code",
   "execution_count": 32,
   "id": "038ed255",
   "metadata": {},
   "outputs": [],
   "source": [
    "def sqr(x):\n",
    "    return x**2"
   ]
  },
  {
   "cell_type": "markdown",
   "id": "1aae3023",
   "metadata": {},
   "source": [
    "# Map\n",
    "\n",
    "Функция map принимает коллекцию (например список) и функцию. Далее применяет к каждому аргументу функцию"
   ]
  },
  {
   "cell_type": "code",
   "execution_count": 33,
   "id": "c5781108",
   "metadata": {},
   "outputs": [
    {
     "name": "stdout",
     "output_type": "stream",
     "text": [
      "<map object at 0x7fb9c8cabee0>\n"
     ]
    }
   ],
   "source": [
    "L = [1, 2, 3, 4]\n",
    "a = map(lambda x: x**2, L)\n",
    "\n",
    "print(a)"
   ]
  },
  {
   "cell_type": "markdown",
   "id": "72547a01",
   "metadata": {},
   "source": [
    "как вы видите, map возвращает на сам список, а так называемый генератор\n",
    "\n",
    "Чтобы вернуть список, преобразуем полученный генератор к списку"
   ]
  },
  {
   "cell_type": "code",
   "execution_count": 34,
   "id": "0714e7a0",
   "metadata": {},
   "outputs": [
    {
     "name": "stdout",
     "output_type": "stream",
     "text": [
      "[1, 4, 9, 16]\n"
     ]
    }
   ],
   "source": [
    "print(list(a))"
   ]
  },
  {
   "cell_type": "markdown",
   "id": "e114eb77",
   "metadata": {},
   "source": [
    "Сам map в работе мы использовать не будем, но будем использовать его вариацию в pandas"
   ]
  },
  {
   "cell_type": "markdown",
   "id": "963e7ede",
   "metadata": {},
   "source": [
    "### Задача\n",
    "\n",
    "Необходимо реализовать функцию, которая принимает список значений и возвращает преобразованный массив по следующему правилу:\n",
    "\n",
    "$$x := \\frac{x - min}{max - min},$$ \n",
    "\n",
    "где x - элемент массива, max - максимальное значение во всем массиве, min - минимальное значение во всем массиве. При решении используйте map\n",
    "\n",
    "Такая функция называется [MinMaxScaler](https://scikit-learn.org/stable/modules/generated/sklearn.preprocessing.MinMaxScaler.html). Она преобразует каждое значение массива в числа от 0 до 1. Зачем нужен это scaler разберем на занятии по Машинному обучению"
   ]
  },
  {
   "cell_type": "code",
   "execution_count": null,
   "id": "3fc92d00",
   "metadata": {},
   "outputs": [],
   "source": []
  },
  {
   "cell_type": "markdown",
   "id": "68d12f12",
   "metadata": {},
   "source": [
    "### Задача\n",
    "Решите эту задачу с помощью numpy. В numpy.array есть метод min и max для поиска минимума и максимума в массиве."
   ]
  },
  {
   "cell_type": "code",
   "execution_count": null,
   "id": "aeca53d2",
   "metadata": {},
   "outputs": [],
   "source": []
  },
  {
   "cell_type": "markdown",
   "id": "06ab27b0",
   "metadata": {},
   "source": [
    "# Решаем квадратное уравнение\n",
    "\n",
    "Нужно написать код функции, которая на вход принимает коэфициенты a, b и c квадратного уравнения и считает ответ.\n",
    "\n",
    "Если корня два, то нужно вернуть кортеж вида $(x1, x2)$, где $x1 < x2$\n",
    "\n",
    "Если корень один, то просто возвращаем число\n",
    "\n",
    "Если корней нет, то возвращаем `None`"
   ]
  },
  {
   "cell_type": "code",
   "execution_count": 44,
   "id": "60db231d",
   "metadata": {},
   "outputs": [],
   "source": [
    "from math import sqrt\n",
    "\n",
    "def solve_quadratic(a, b, c):\n",
    "    if a == 0:\n",
    "        if b == 0:\n",
    "            # Уравнение вида c = 0, решение нет\n",
    "            return None\n",
    "        return -c / b\n",
    "    d = b * b - 4 * a * c\n",
    "    if d > 0:\n",
    "        x1 = (-b + sqrt(d)) / (2 * a)\n",
    "        x2 = (-b - sqrt(d)) / (2 * a)\n",
    "        # Возвращаем в порядке возрастания\n",
    "        return min(x1, x2), max(x1, x2)\n",
    "    elif d == 0:\n",
    "        return -b / (2 * a)\n",
    "    else:\n",
    "        return None"
   ]
  },
  {
   "cell_type": "markdown",
   "id": "0a443eb6",
   "metadata": {},
   "source": [
    "Ячейки ниже просто запускаем, чтобы проверить, что мы правильно написали функцию. Если не ругается, значит все ок."
   ]
  },
  {
   "cell_type": "code",
   "execution_count": 45,
   "id": "19de7942",
   "metadata": {},
   "outputs": [],
   "source": [
    "def calculate_quadratic(a, b, c, x):\n",
    "    return a * x ** 2 + b * x + c\n",
    "\n",
    "def test_quadratic(a, b, c):\n",
    "    result = solve_quadratic(a, b, c)\n",
    "    if b * b - 4 * a * c < 0:\n",
    "        assert result is None\n",
    "        return\n",
    "    from typing import Iterable\n",
    "    if isinstance(result, Iterable):\n",
    "        x1, x2 = result\n",
    "        assert abs(calculate_quadratic(a, b, c, x1)) < 0.00001\n",
    "        assert abs(calculate_quadratic(a, b, c, x2)) < 0.00001\n",
    "    else:\n",
    "        x = result\n",
    "        assert abs(calculate_quadratic(a, b, c, x)) < 0.00001"
   ]
  },
  {
   "cell_type": "code",
   "execution_count": 47,
   "id": "7b2f4a88",
   "metadata": {},
   "outputs": [],
   "source": [
    "test_quadratic(1, -2, -3) # два корня\n",
    "test_quadratic(1, 12, 36) # один корень\n",
    "test_quadratic(1, 0, 0)\n",
    "test_quadratic(0, 1, 0)\n",
    "test_quadratic(2, 4, -7) # два корня\n",
    "test_quadratic(1, 6, 9) # один корень\n",
    "test_quadratic(2, 4, 7) # нет корней"
   ]
  },
  {
   "cell_type": "code",
   "execution_count": null,
   "id": "33ecb626",
   "metadata": {},
   "outputs": [],
   "source": []
  }
 ],
 "metadata": {
  "kernelspec": {
   "display_name": "Python 3 (ipykernel)",
   "language": "python",
   "name": "python3"
  },
  "language_info": {
   "codemirror_mode": {
    "name": "ipython",
    "version": 3
   },
   "file_extension": ".py",
   "mimetype": "text/x-python",
   "name": "python",
   "nbconvert_exporter": "python",
   "pygments_lexer": "ipython3",
   "version": "3.9.7"
  }
 },
 "nbformat": 4,
 "nbformat_minor": 5
}
